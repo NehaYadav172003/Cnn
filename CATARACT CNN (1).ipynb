{
 "cells": [
  {
   "cell_type": "code",
   "execution_count": 1,
   "id": "7eef8d2e",
   "metadata": {},
   "outputs": [
    {
     "name": "stdout",
     "output_type": "stream",
     "text": [
      "WARNING:tensorflow:From C:\\Users\\DELL\\AppData\\Roaming\\Python\\Python311\\site-packages\\keras\\src\\losses.py:2976: The name tf.losses.sparse_softmax_cross_entropy is deprecated. Please use tf.compat.v1.losses.sparse_softmax_cross_entropy instead.\n",
      "\n"
     ]
    }
   ],
   "source": [
    "%matplotlib inline\n",
    "\n",
    "import numpy as np\n",
    "import pandas as pd\n",
    "from keras.preprocessing.image import ImageDataGenerator #augment  images\n",
    "from keras.models import Model\n",
    "from keras.layers import Input, Flatten, Dense\n",
    "from keras.callbacks import Callback, ModelCheckpoint # to get a view on internal states and statistics of the model during training\n",
    "#define where to checkpoint the model weights, how to name the file\n",
    "from keras.applications.vgg16 import VGG16 #Very Deep Convolutional Networks\n",
    "from keras.preprocessing import image\n",
    "from keras.applications.vgg16 import preprocess_input\n",
    "\n",
    "import warnings\n",
    "warnings.filterwarnings('ignore')"
   ]
  },
  {
   "cell_type": "code",
   "execution_count": 2,
   "id": "caa12dbe",
   "metadata": {},
   "outputs": [
    {
     "name": "stdout",
     "output_type": "stream",
     "text": [
      "WARNING:tensorflow:From C:\\Users\\DELL\\AppData\\Roaming\\Python\\Python311\\site-packages\\keras\\src\\backend.py:1398: The name tf.executing_eagerly_outside_functions is deprecated. Please use tf.compat.v1.executing_eagerly_outside_functions instead.\n",
      "\n",
      "WARNING:tensorflow:From C:\\Users\\DELL\\AppData\\Roaming\\Python\\Python311\\site-packages\\keras\\src\\layers\\pooling\\max_pooling2d.py:161: The name tf.nn.max_pool is deprecated. Please use tf.nn.max_pool2d instead.\n",
      "\n"
     ]
    }
   ],
   "source": [
    "model_vgg16_conv = VGG16(weights='imagenet', include_top=False)"
   ]
  },
  {
   "cell_type": "code",
   "execution_count": 3,
   "id": "9f2df856",
   "metadata": {},
   "outputs": [],
   "source": [
    "for layer in model_vgg16_conv.layers:\n",
    "    layer.trainable = False"
   ]
  },
  {
   "cell_type": "code",
   "execution_count": 4,
   "id": "f247d934",
   "metadata": {},
   "outputs": [],
   "source": [
    "img_width, img_height = 150, 150\n",
    "train_data_dir = \"C:/Users/DELL/Downloads/cataract/processed_images/train\"\n",
    "val_data_dir = \"C:/Users/DELL/Downloads/cataract/processed_images/train\"\n",
    "model_weights_file = 'vgg16-xfer-weights.h5'\n",
    "nb_train_samples = 4\n",
    "nb_val_samples = 4\n",
    "nb_epochs = 5"
   ]
  },
  {
   "cell_type": "code",
   "execution_count": 5,
   "id": "de99a570",
   "metadata": {},
   "outputs": [
    {
     "name": "stdout",
     "output_type": "stream",
     "text": [
      "WARNING:tensorflow:From C:\\Users\\DELL\\AppData\\Roaming\\Python\\Python311\\site-packages\\keras\\src\\optimizers\\__init__.py:309: The name tf.train.Optimizer is deprecated. Please use tf.compat.v1.train.Optimizer instead.\n",
      "\n"
     ]
    }
   ],
   "source": [
    "input = Input(shape=(img_width, img_height, 3))\n",
    "output_vgg16_conv = model_vgg16_conv(input)\n",
    "x = Flatten()(output_vgg16_conv)\n",
    "x = Dense(64, activation='relu')(x)\n",
    "x = Dense(2, activation='softmax')(x)\n",
    "model = Model(input, x)\n",
    "\n",
    "model.compile(loss='categorical_crossentropy', optimizer='rmsprop', metrics=['accuracy'])"
   ]
  },
  {
   "cell_type": "code",
   "execution_count": 6,
   "id": "9a032ce8",
   "metadata": {},
   "outputs": [
    {
     "name": "stdout",
     "output_type": "stream",
     "text": [
      "Found 491 images belonging to 2 classes.\n",
      "Found 491 images belonging to 2 classes.\n"
     ]
    }
   ],
   "source": [
    "train_datagen = ImageDataGenerator(rescale=1./255, shear_range=0.2, zoom_range=0.2, horizontal_flip=True)\n",
    "test_datagen = ImageDataGenerator(rescale=1./255)\n",
    "#augment  images\n",
    "train_generator = train_datagen.flow_from_directory(train_data_dir, target_size=(img_width, img_height),\n",
    "                                                    batch_size=4, class_mode='categorical')\n",
    "validation_generator = test_datagen.flow_from_directory(val_data_dir, target_size=(img_width, img_height),\n",
    "                                                        batch_size=4,class_mode='categorical')"
   ]
  },
  {
   "cell_type": "code",
   "execution_count": 7,
   "id": "408ea0bd",
   "metadata": {},
   "outputs": [
    {
     "name": "stdout",
     "output_type": "stream",
     "text": [
      "Epoch 1/5\n",
      "WARNING:tensorflow:From C:\\Users\\DELL\\AppData\\Roaming\\Python\\Python311\\site-packages\\keras\\src\\utils\\tf_utils.py:492: The name tf.ragged.RaggedTensorValue is deprecated. Please use tf.compat.v1.ragged.RaggedTensorValue instead.\n",
      "\n",
      "WARNING:tensorflow:From C:\\Users\\DELL\\AppData\\Roaming\\Python\\Python311\\site-packages\\keras\\src\\engine\\base_layer_utils.py:384: The name tf.executing_eagerly_outside_functions is deprecated. Please use tf.compat.v1.executing_eagerly_outside_functions instead.\n",
      "\n",
      "123/123 [==============================] - ETA: 0s - loss: 0.6121 - accuracy: 0.7800WARNING:tensorflow:Can save best model only with val_acc available, skipping.\n",
      "123/123 [==============================] - 59s 477ms/step - loss: 0.6121 - accuracy: 0.7800 - val_loss: 0.2873 - val_accuracy: 0.8737\n",
      "Epoch 2/5\n",
      "123/123 [==============================] - ETA: 0s - loss: 0.3103 - accuracy: 0.8900WARNING:tensorflow:Can save best model only with val_acc available, skipping.\n",
      "123/123 [==============================] - 60s 490ms/step - loss: 0.3103 - accuracy: 0.8900 - val_loss: 0.2297 - val_accuracy: 0.9063\n",
      "Epoch 3/5\n",
      "123/123 [==============================] - ETA: 0s - loss: 0.2367 - accuracy: 0.9145WARNING:tensorflow:Can save best model only with val_acc available, skipping.\n",
      "123/123 [==============================] - 59s 484ms/step - loss: 0.2367 - accuracy: 0.9145 - val_loss: 0.1660 - val_accuracy: 0.9287\n",
      "Epoch 4/5\n",
      "123/123 [==============================] - ETA: 0s - loss: 0.2187 - accuracy: 0.9145WARNING:tensorflow:Can save best model only with val_acc available, skipping.\n",
      "123/123 [==============================] - 62s 501ms/step - loss: 0.2187 - accuracy: 0.9145 - val_loss: 0.0959 - val_accuracy: 0.9715\n",
      "Epoch 5/5\n",
      "123/123 [==============================] - ETA: 0s - loss: 0.1464 - accuracy: 0.9470WARNING:tensorflow:Can save best model only with val_acc available, skipping.\n",
      "123/123 [==============================] - 69s 561ms/step - loss: 0.1464 - accuracy: 0.9470 - val_loss: 0.1341 - val_accuracy: 0.9511\n",
      "Training Completed!\n"
     ]
    }
   ],
   "source": [
    "callbacks = [ModelCheckpoint(model_weights_file, monitor='val_acc', save_best_only=True)]\n",
    "\n",
    "history = model.fit_generator( train_generator, epochs=5, callbacks = callbacks, validation_data=validation_generator)\n",
    "print('Training Completed!')"
   ]
  },
  {
   "cell_type": "code",
   "execution_count": 8,
   "id": "d14795a7",
   "metadata": {},
   "outputs": [
    {
     "name": "stdout",
     "output_type": "stream",
     "text": [
      "Input Shape: (1, 150, 150, 3)\n",
      "1/1 [==============================] - 0s 311ms/step\n",
      "Predicted Array: [[1.000000e+00 4.125684e-09]]\n",
      "Predicted Label: normal\n"
     ]
    }
   ],
   "source": [
    "from keras.preprocessing import image\n",
    "from keras.applications.vgg16 import preprocess_input, decode_predictions\n",
    "import numpy as np\n",
    "\n",
    "# ... (Previous code)\n",
    "\n",
    "img_path = \"C:/Users/DELL/Downloads/cataract/processed_images/test/normal/image_298.png\"\n",
    "label = ['normal', 'cataract']\n",
    "\n",
    "img = image.load_img(img_path, target_size=(150, 150))\n",
    "x = image.img_to_array(img)\n",
    "x = np.expand_dims(x, axis=0)\n",
    "x = preprocess_input(x)\n",
    "\n",
    "print('Input Shape:', x.shape)\n",
    "\n",
    "features = model.predict(x)\n",
    "\n",
    "print('Predicted Array:', features)\n",
    "\n",
    "if features.size > 0:\n",
    "    ind = np.argmax(features)  # Using np.argmax instead of np.where\n",
    "    print('Predicted Label:', label[ind])\n",
    "else:\n",
    "    print('No predictions were made.')\n",
    "\n",
    "# ... (Remaining code)\n"
   ]
  },
  {
   "cell_type": "code",
   "execution_count": 21,
   "id": "e10a3477",
   "metadata": {},
   "outputs": [
    {
     "name": "stdout",
     "output_type": "stream",
     "text": [
      "Input Shape: (1, 150, 150, 3)\n",
      "1/1 [==============================] - 0s 259ms/step\n",
      "Predicted Array: [[0. 1.]]\n",
      "Predicted Label: cataract\n"
     ]
    }
   ],
   "source": [
    "from keras.preprocessing import image\n",
    "from keras.applications.vgg16 import preprocess_input, decode_predictions\n",
    "import numpy as np\n",
    "\n",
    "# ... (Previous code)\n",
    "\n",
    "img_path = \"C:/Users/DELL/Downloads/cataract/processed_images/test/cataract/image_264.png\"\n",
    "label = ['normal', 'cataract']\n",
    "\n",
    "img = image.load_img(img_path, target_size=(150, 150))\n",
    "x = image.img_to_array(img)\n",
    "x = np.expand_dims(x, axis=0)\n",
    "x = preprocess_input(x)\n",
    "\n",
    "print('Input Shape:', x.shape)\n",
    "\n",
    "features = model.predict(x)\n",
    "\n",
    "print('Predicted Array:', features)\n",
    "\n",
    "if features.size > 0:\n",
    "    ind = np.argmax(features)  # Using np.argmax instead of np.where\n",
    "    print('Predicted Label:', label[ind])\n",
    "else:\n",
    "    print('No predictions were made.')\n",
    "\n",
    "# ... (Remaining code)\n"
   ]
  },
  {
   "cell_type": "code",
   "execution_count": 12,
   "id": "3f721a69",
   "metadata": {},
   "outputs": [
    {
     "name": "stdout",
     "output_type": "stream",
     "text": [
      "Input Shape: (1, 150, 150, 3)\n",
      "1/1 [==============================] - 0s 106ms/step\n",
      "Predicted Array: [[1.0000000e+00 5.6128595e-21]]\n",
      "Predicted Label: normal\n"
     ]
    }
   ],
   "source": [
    "from keras.preprocessing import image\n",
    "from keras.applications.vgg16 import preprocess_input, decode_predictions\n",
    "import numpy as np\n",
    "\n",
    "# ... (Previous code)\n",
    "\n",
    "img_path = \"C:/Users/DELL/Downloads/cataract/processed_images/test/normal/test.jpg\"\n",
    "label = ['normal', 'cataract']\n",
    "\n",
    "img = image.load_img(img_path, target_size=(150, 150))\n",
    "x = image.img_to_array(img)\n",
    "x = np.expand_dims(x, axis=0)\n",
    "x = preprocess_input(x)\n",
    "\n",
    "print('Input Shape:', x.shape)\n",
    "\n",
    "features = model.predict(x)\n",
    "\n",
    "print('Predicted Array:', features)\n",
    "\n",
    "if features.size > 0:\n",
    "    ind = np.argmax(features)  # Using np.argmax instead of np.where\n",
    "    print('Predicted Label:', label[ind])\n",
    "else:\n",
    "    print('No predictions were made.')\n",
    "\n",
    "# ... (Remaining code)\n"
   ]
  },
  {
   "cell_type": "code",
   "execution_count": 13,
   "id": "a6391721",
   "metadata": {},
   "outputs": [
    {
     "name": "stdout",
     "output_type": "stream",
     "text": [
      "Input Shape: (1, 150, 150, 3)\n",
      "1/1 [==============================] - 0s 121ms/step\n",
      "Predicted Array: [[0.99344504 0.00655497]]\n",
      "Predicted Label: normal\n"
     ]
    }
   ],
   "source": [
    "from keras.preprocessing import image\n",
    "from keras.applications.vgg16 import preprocess_input, decode_predictions\n",
    "import numpy as np\n",
    "\n",
    "# ... (Previous code)\n",
    "\n",
    "img_path = \"C:/Users/DELL/Downloads/cataract/processed_images/test/normal/testvasu.jpg\"\n",
    "label = ['normal', 'cataract']\n",
    "\n",
    "img = image.load_img(img_path, target_size=(150, 150))\n",
    "x = image.img_to_array(img)\n",
    "x = np.expand_dims(x, axis=0)\n",
    "x = preprocess_input(x)\n",
    "\n",
    "print('Input Shape:', x.shape)\n",
    "\n",
    "features = model.predict(x)\n",
    "\n",
    "print('Predicted Array:', features)\n",
    "\n",
    "if features.size > 0:\n",
    "    ind = np.argmax(features)  # Using np.argmax instead of np.where\n",
    "    print('Predicted Label:', label[ind])\n",
    "else:\n",
    "    print('No predictions were made.')\n",
    "\n",
    "# ... (Remaining code)\n"
   ]
  },
  {
   "cell_type": "code",
   "execution_count": 15,
   "id": "7c566ca4",
   "metadata": {},
   "outputs": [
    {
     "name": "stdout",
     "output_type": "stream",
     "text": [
      "Input Shape: (1, 150, 150, 3)\n",
      "1/1 [==============================] - 0s 107ms/step\n",
      "Predicted Array: [[1. 0.]]\n",
      "Predicted Label: Cataract\n"
     ]
    }
   ],
   "source": [
    "from keras.preprocessing import image\n",
    "from keras.applications.vgg16 import preprocess_input, decode_predictions\n",
    "import numpy as np\n",
    "\n",
    "# ... (Previous code)\n",
    "\n",
    "img_path = \"C:/Users/DELL/Downloads/cataract/processed_images/test/cataract/image_258.png\"\n",
    "label = ['Cataract', 'normal']\n",
    "\n",
    "img = image.load_img(img_path, target_size=(150, 150))\n",
    "x = image.img_to_array(img)\n",
    "x = np.expand_dims(x, axis=0)\n",
    "x = preprocess_input(x)\n",
    "\n",
    "print('Input Shape:', x.shape)\n",
    "\n",
    "features = model.predict(x)\n",
    "\n",
    "print('Predicted Array:', features)\n",
    "\n",
    "if features.size > 0:\n",
    "    ind = np.argmax(features)  # Using np.argmax instead of np.where\n",
    "    print('Predicted Label:', label[ind])\n",
    "else:\n",
    "    print('No predictions were made.')\n",
    "\n",
    "# ... (Remaining code)\n"
   ]
  },
  {
   "cell_type": "code",
   "execution_count": null,
   "id": "411e2095",
   "metadata": {},
   "outputs": [],
   "source": []
  }
 ],
 "metadata": {
  "kernelspec": {
   "display_name": "Python 3 (ipykernel)",
   "language": "python",
   "name": "python3"
  },
  "language_info": {
   "codemirror_mode": {
    "name": "ipython",
    "version": 3
   },
   "file_extension": ".py",
   "mimetype": "text/x-python",
   "name": "python",
   "nbconvert_exporter": "python",
   "pygments_lexer": "ipython3",
   "version": "3.11.5"
  }
 },
 "nbformat": 4,
 "nbformat_minor": 5
}
